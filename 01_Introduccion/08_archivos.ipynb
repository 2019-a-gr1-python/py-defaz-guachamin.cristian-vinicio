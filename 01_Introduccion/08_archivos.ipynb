{
 "cells": [
  {
   "cell_type": "code",
   "execution_count": 6,
   "metadata": {},
   "outputs": [
    {
     "name": "stdout",
     "output_type": "stream",
     "text": [
      "<_io.TextIOWrapper name='./08_archivos.txt' mode='r' encoding='UTF-8'>\n",
      "<class '_io.TextIOWrapper'>\n",
      "Buenos dìas :D\n",
      "<class 'str'>\n",
      "\n",
      "<class 'str'>\n",
      "Error leyendo archivo\n"
     ]
    }
   ],
   "source": [
    "try:\n",
    "    path = './08_archivos.txt'\n",
    "    archivo_abierto = open(path)\n",
    "    ## Modos:\n",
    "    # open >> solo lectura\n",
    "    print(archivo_abierto)\n",
    "    print(type(archivo_abierto))\n",
    "  #  archivo_abierto.readline()\n",
    "    linea_leida_uno = archivo_abierto.readline()\n",
    "    print(linea_leida_uno)\n",
    "    print(type(linea_leida_uno))\n",
    "    \n",
    "    linea_leida_dos = archivo_abierto.readline()\n",
    "    print(linea_leida_dos)\n",
    "    print(type(linea_leida_dos))\n",
    "    \n",
    "    lineas_archivo = archivo_abierto.readline()\n",
    "    \n",
    "    print(lineas_archuvo)\n",
    "    print(lineas_archuvo)\n",
    "    print(type(lineas_archivo))\n",
    "    \n",
    "    # imprimir todas las lineas\n",
    "    for linea in lineas_archivo:\n",
    "        print(linea)\n",
    "    \n",
    "    archivo_abierto.close()\n",
    "except:\n",
    "    print('Error leyendo archivo')"
   ]
  },
  {
   "cell_type": "code",
   "execution_count": 13,
   "metadata": {},
   "outputs": [],
   "source": [
    "try:\n",
    "    path = './08_archivos.txt'\n",
    "    archivo_escritura_abierto = open(path, mode='a') # con el modo a: es evita sobreescritura\n",
    "    archivo_escritura_abierto.write('Buenos dias\\n') # write: sobreescribe el archivo\n",
    "    archivo_escritura_abierto.writelines(['hola\\n','mundo\\n'])\n",
    "    archivo_escritura_abierto.close()\n",
    "    # a -> append, añade contenido al final\n",
    "    # w -> Sobreescribe el contenido\n",
    "except:\n",
    "    print('Error leyendo archivo')"
   ]
  },
  {
   "cell_type": "code",
   "execution_count": null,
   "metadata": {},
   "outputs": [],
   "source": []
  }
 ],
 "metadata": {
  "kernelspec": {
   "display_name": "Python 3",
   "language": "python",
   "name": "python3"
  },
  "language_info": {
   "codemirror_mode": {
    "name": "ipython",
    "version": 3
   },
   "file_extension": ".py",
   "mimetype": "text/x-python",
   "name": "python",
   "nbconvert_exporter": "python",
   "pygments_lexer": "ipython3",
   "version": "3.7.1"
  }
 },
 "nbformat": 4,
 "nbformat_minor": 2
}
