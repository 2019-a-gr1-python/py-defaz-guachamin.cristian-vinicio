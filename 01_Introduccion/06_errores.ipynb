{
 "cells": [
  {
   "cell_type": "markdown",
   "metadata": {},
   "source": [
    "# Errores"
   ]
  },
  {
   "cell_type": "code",
   "execution_count": 1,
   "metadata": {},
   "outputs": [],
   "source": [
    "criss = {\n",
    "    'nombre':'Criss'\n",
    "}"
   ]
  },
  {
   "cell_type": "code",
   "execution_count": 4,
   "metadata": {},
   "outputs": [],
   "source": [
    "#adrian['asd'] #key error\n",
    "# ++ #SyntaxError\n",
    "#asd.asd #NameError\n",
    "#\"1\"+1 #TypeError"
   ]
  },
  {
   "cell_type": "code",
   "execution_count": 4,
   "metadata": {},
   "outputs": [
    {
     "name": "stdout",
     "output_type": "stream",
     "text": [
      "Error: 'asd' KEY ERROR\n",
      "Traceback: <traceback object at 0x00000162667CE888>\n"
     ]
    }
   ],
   "source": [
    "# En python 'try-catch' de java es 'try-except'\n",
    "try:\n",
    "    criss['asd']\n",
    "except Exception as error:\n",
    "    print(f\"Error: {error} KEY ERROR\")\n",
    "    print(f\"Traceback: {error.__traceback__}\") # imprime el error"
   ]
  },
  {
   "cell_type": "code",
   "execution_count": 3,
   "metadata": {},
   "outputs": [
    {
     "name": "stdout",
     "output_type": "stream",
     "text": [
      "Criss\n",
      "Error: 'asd' TYPE OR KEY ERROR\n"
     ]
    }
   ],
   "source": [
    "try:\n",
    "    print(criss['nombre'])\n",
    "    criss['asd']\n",
    "    \"1\"+1\n",
    "    asd.asd\n",
    "except (NameError) as nameError:\n",
    "    print(f\"Error: {nameError} NAME ERROR\")\n",
    "# Juntando 2 errores en el mismo caso:\n",
    "except (TypeError, KeyError) as typeError :\n",
    "    print(f\"Error: {typeError} TYPE OR KEY ERROR\")\n",
    "#except (KeyError) as keyError\n",
    "#    print(f\"Error: {keyError} TYPE ERROR\")\n",
    "except Exception as error:\n",
    "    print(f\"Error: {error} ERRORES GENERALES\")\n",
    "    print(f\"Traceback: {error.__traceback__}\")"
   ]
  },
  {
   "cell_type": "code",
   "execution_count": null,
   "metadata": {},
   "outputs": [],
   "source": []
  }
 ],
 "metadata": {
  "kernelspec": {
   "display_name": "Python 3",
   "language": "python",
   "name": "python3"
  },
  "language_info": {
   "codemirror_mode": {
    "name": "ipython",
    "version": 3
   },
   "file_extension": ".py",
   "mimetype": "text/x-python",
   "name": "python",
   "nbconvert_exporter": "python",
   "pygments_lexer": "ipython3",
   "version": "3.7.3"
  }
 },
 "nbformat": 4,
 "nbformat_minor": 2
}
