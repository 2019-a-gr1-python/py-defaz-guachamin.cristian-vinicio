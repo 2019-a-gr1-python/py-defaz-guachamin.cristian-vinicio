{
 "cells": [
  {
   "cell_type": "code",
   "execution_count": 1,
   "metadata": {},
   "outputs": [],
   "source": [
    "criss = {\n",
    "    'nombre':'Criss'\n",
    "}"
   ]
  },
  {
   "cell_type": "code",
   "execution_count": 4,
   "metadata": {},
   "outputs": [],
   "source": [
    "#adrian['asd'] #key error\n",
    "# ++ #SyntaxError\n",
    "#asd.asd #NameError\n",
    "#\"1\"+1 #TypeError"
   ]
  },
  {
   "cell_type": "code",
   "execution_count": 7,
   "metadata": {},
   "outputs": [
    {
     "name": "stdout",
     "output_type": "stream",
     "text": [
      "Error: 'asd' KEY ERROR\n",
      "Traceback: <traceback object at 0x11014f808>\n"
     ]
    }
   ],
   "source": [
    "try:\n",
    "    criss['asd']\n",
    "except Exception as error:\n",
    "    print(f\"Error: {error} KEY ERROR\")\n",
    "    print(f\"Traceback: {error.__traceback__}\")"
   ]
  },
  {
   "cell_type": "code",
   "execution_count": 9,
   "metadata": {},
   "outputs": [
    {
     "ename": "SyntaxError",
     "evalue": "invalid syntax (<ipython-input-9-f1a28e875bb2>, line 6)",
     "output_type": "error",
     "traceback": [
      "\u001b[0;36m  File \u001b[0;32m\"<ipython-input-9-f1a28e875bb2>\"\u001b[0;36m, line \u001b[0;32m6\u001b[0m\n\u001b[0;31m    except (NameError) as nameError\u001b[0m\n\u001b[0m                                   ^\u001b[0m\n\u001b[0;31mSyntaxError\u001b[0m\u001b[0;31m:\u001b[0m invalid syntax\n"
     ]
    }
   ],
   "source": [
    "try:\n",
    "    print(adrian['nombre'])\n",
    "    criss['asd']\n",
    "    \"1\"+1\n",
    "    asd.asd\n",
    "except (NameError) as nameError\n",
    "    print(f\"Error: {nameError} NAME ERROR\")\n",
    "except (TypeError, KeyError) as typeError\n",
    "    print(f\"Error: {typeError} TYPE OR KEY ERROR\")\n",
    "#except (KeyError) as keyError\n",
    "#    print(f\"Error: {keyError} TYPE ERROR\")\n",
    "except Exception as error:\n",
    "    print(f\"Error: {error} ERRORES GENERALES\")\n",
    "    print(f\"Traceback: {error.__traceback__}\")"
   ]
  },
  {
   "cell_type": "code",
   "execution_count": null,
   "metadata": {},
   "outputs": [],
   "source": []
  }
 ],
 "metadata": {
  "kernelspec": {
   "display_name": "Python 3",
   "language": "python",
   "name": "python3"
  },
  "language_info": {
   "codemirror_mode": {
    "name": "ipython",
    "version": 3
   },
   "file_extension": ".py",
   "mimetype": "text/x-python",
   "name": "python",
   "nbconvert_exporter": "python",
   "pygments_lexer": "ipython3",
   "version": "3.7.1"
  }
 },
 "nbformat": 4,
 "nbformat_minor": 2
}
