{
 "cells": [
  {
   "cell_type": "markdown",
   "metadata": {},
   "source": [
    "## Clases"
   ]
  },
  {
   "cell_type": "code",
   "execution_count": 1,
   "metadata": {},
   "outputs": [],
   "source": [
    "# en Python si existe POO, por ende existen clases y objetos"
   ]
  },
  {
   "cell_type": "code",
   "execution_count": 60,
   "metadata": {},
   "outputs": [],
   "source": [
    "class Nada:\n",
    "    pass # crea una clase abstracta"
   ]
  },
  {
   "cell_type": "code",
   "execution_count": 4,
   "metadata": {},
   "outputs": [],
   "source": [
    "una_nada = Nada()"
   ]
  },
  {
   "cell_type": "code",
   "execution_count": 5,
   "metadata": {},
   "outputs": [
    {
     "name": "stdout",
     "output_type": "stream",
     "text": [
      "<__main__.Nada object at 0x102f377f0>\n"
     ]
    }
   ],
   "source": [
    "print(una_nada)"
   ]
  },
  {
   "cell_type": "code",
   "execution_count": 6,
   "metadata": {},
   "outputs": [
    {
     "name": "stdout",
     "output_type": "stream",
     "text": [
      "<class '__main__.Nada'>\n"
     ]
    }
   ],
   "source": [
    "print(type(una_nada))"
   ]
  },
  {
   "cell_type": "code",
   "execution_count": 1,
   "metadata": {},
   "outputs": [],
   "source": [
    "class Auto:\n",
    "    color = 'Negro' # Propiedad publica\n",
    "    placa = '' # propiedad publica\n",
    "    __numero_calculo = 1024 # Propiedad privada\n",
    "    \n",
    "    def __init__(self, placa): # constructor\n",
    "        print('Estamos inicializando el auto')\n",
    "        self.placa = placa\n",
    "        \n",
    "    def __str__(self):  # OVERRIDE -> Devuelve un 'str'\n",
    "        return f'Color: {self.color}\\n'+f'Placa: {self.placa}'\n",
    "    \n",
    "    def calcular_impuesto(self, anio): # metodo publico\n",
    "        total_a_pagar = self.__calculo(anio)\n",
    "        print(f'Su impuesto a pagar es: {total_a_pagar}')\n",
    "        return total_a_pagar\n",
    "    \n",
    "    def _calculo(self,anio): # metodo privado\n",
    "        return (anio / 2) + self.__numero_calculo\n",
    "    "
   ]
  },
  {
   "cell_type": "code",
   "execution_count": 3,
   "metadata": {},
   "outputs": [
    {
     "name": "stdout",
     "output_type": "stream",
     "text": [
      "Estamos inicializando el auto\n"
     ]
    }
   ],
   "source": [
    "coche = Auto('PIK-1234')"
   ]
  },
  {
   "cell_type": "code",
   "execution_count": 4,
   "metadata": {},
   "outputs": [
    {
     "data": {
      "text/plain": [
       "'Negro'"
      ]
     },
     "execution_count": 4,
     "metadata": {},
     "output_type": "execute_result"
    }
   ],
   "source": [
    "coche.color"
   ]
  },
  {
   "cell_type": "code",
   "execution_count": 5,
   "metadata": {},
   "outputs": [
    {
     "data": {
      "text/plain": [
       "'PIK-1234'"
      ]
     },
     "execution_count": 5,
     "metadata": {},
     "output_type": "execute_result"
    }
   ],
   "source": [
    "coche.placa"
   ]
  },
  {
   "cell_type": "code",
   "execution_count": 6,
   "metadata": {},
   "outputs": [
    {
     "name": "stdout",
     "output_type": "stream",
     "text": [
      "Color: Negro\n",
      "Placa: PIK-1234\n"
     ]
    }
   ],
   "source": [
    "print(coche)"
   ]
  },
  {
   "cell_type": "code",
   "execution_count": 7,
   "metadata": {},
   "outputs": [],
   "source": [
    "class BMW(Auto): # _ protected, __ private\n",
    "  #  hp_motor = 0\n",
    "    \n",
    "    # constructor para que acepte el motor como parámetro de la clase:\n",
    "    def __init__ (self, placa, hp_motor = 5000):\n",
    "        super().__init__(placa)\n",
    "        self.hp_motor = hp_motor # Inicializando propiedades\n",
    "        \n",
    "    def __str__(self):\n",
    "   #     print(self._calculo(9999)) # _ protected, __ private\n",
    "        return f'Color: {self.color}\\n{self.placa}\\nHP Motor: {self.hp_motor}'"
   ]
  },
  {
   "cell_type": "code",
   "execution_count": 8,
   "metadata": {},
   "outputs": [
    {
     "name": "stdout",
     "output_type": "stream",
     "text": [
      "Estamos inicializando el auto\n"
     ]
    }
   ],
   "source": [
    "nuevo_bmw = BMW('PHC-4433') # inicializa con la placa"
   ]
  },
  {
   "cell_type": "code",
   "execution_count": 9,
   "metadata": {},
   "outputs": [
    {
     "data": {
      "text/plain": [
       "'PHC-4433'"
      ]
     },
     "execution_count": 9,
     "metadata": {},
     "output_type": "execute_result"
    }
   ],
   "source": [
    "nuevo_bmw.placa"
   ]
  },
  {
   "cell_type": "code",
   "execution_count": 10,
   "metadata": {},
   "outputs": [
    {
     "name": "stdout",
     "output_type": "stream",
     "text": [
      "Color: Negro\n",
      "PHC-4433\n",
      "HP Motor: 5000\n"
     ]
    }
   ],
   "source": [
    "print(nuevo_bmw)"
   ]
  },
  {
   "cell_type": "code",
   "execution_count": null,
   "metadata": {},
   "outputs": [],
   "source": []
  }
 ],
 "metadata": {
  "kernelspec": {
   "display_name": "Python 3",
   "language": "python",
   "name": "python3"
  },
  "language_info": {
   "codemirror_mode": {
    "name": "ipython",
    "version": 3
   },
   "file_extension": ".py",
   "mimetype": "text/x-python",
   "name": "python",
   "nbconvert_exporter": "python",
   "pygments_lexer": "ipython3",
   "version": "3.7.1"
  }
 },
 "nbformat": 4,
 "nbformat_minor": 2
}
