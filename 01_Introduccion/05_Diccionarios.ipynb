{
 "cells": [
  {
   "cell_type": "code",
   "execution_count": 1,
   "metadata": {},
   "outputs": [],
   "source": [
    "# JSON -> Diccionario\n",
    "isssac = 'Issac'\n",
    "adrian = {\n",
    "    'nombre': 'Adrian',\n",
    "    'apellido': 'Eguez',\n",
    "    'issac':isssac,\n",
    "    'edad': 29,\n",
    "    'hijos': None,\n",
    "    'casado': False,\n",
    "    'sueldo': 12.2,\n",
    "    'mascotas': [\n",
    "        {\n",
    "            'nombre':'Cachetes',\n",
    "            'edad':3\n",
    "        }\n",
    "    ],\n",
    "    'carro':(0,1,2)\n",
    "}"
   ]
  },
  {
   "cell_type": "code",
   "execution_count": 2,
   "metadata": {},
   "outputs": [
    {
     "data": {
      "text/plain": [
       "'Adrian'"
      ]
     },
     "execution_count": 2,
     "metadata": {},
     "output_type": "execute_result"
    }
   ],
   "source": [
    "adrian['nombre']"
   ]
  },
  {
   "cell_type": "code",
   "execution_count": 3,
   "metadata": {},
   "outputs": [
    {
     "data": {
      "text/plain": [
       "[{'nombre': 'Cachetes', 'edad': 3}]"
      ]
     },
     "execution_count": 3,
     "metadata": {},
     "output_type": "execute_result"
    }
   ],
   "source": [
    "adrian['mascotas']\n"
   ]
  },
  {
   "cell_type": "code",
   "execution_count": 4,
   "metadata": {},
   "outputs": [
    {
     "data": {
      "text/plain": [
       "{'nombre': 'Cachetes', 'edad': 3}"
      ]
     },
     "execution_count": 4,
     "metadata": {},
     "output_type": "execute_result"
    }
   ],
   "source": [
    "adrian['mascotas'][0]"
   ]
  },
  {
   "cell_type": "code",
   "execution_count": 5,
   "metadata": {},
   "outputs": [
    {
     "data": {
      "text/plain": [
       "'Cachetes'"
      ]
     },
     "execution_count": 5,
     "metadata": {},
     "output_type": "execute_result"
    }
   ],
   "source": [
    "adrian['mascotas'][0]['nombre']\n"
   ]
  },
  {
   "cell_type": "code",
   "execution_count": 6,
   "metadata": {},
   "outputs": [
    {
     "data": {
      "text/plain": [
       "'Adrian'"
      ]
     },
     "execution_count": 6,
     "metadata": {},
     "output_type": "execute_result"
    }
   ],
   "source": [
    "adrian.get('nombre')\n"
   ]
  },
  {
   "cell_type": "code",
   "execution_count": 7,
   "metadata": {},
   "outputs": [
    {
     "data": {
      "text/plain": [
       "[{'nombre': 'Cachetes', 'edad': 3}]"
      ]
     },
     "execution_count": 7,
     "metadata": {},
     "output_type": "execute_result"
    }
   ],
   "source": [
    "adrian.get('mascotas')\n"
   ]
  },
  {
   "cell_type": "code",
   "execution_count": 8,
   "metadata": {},
   "outputs": [
    {
     "data": {
      "text/plain": [
       "{'nombre': 'Adrian',\n",
       " 'apellido': 'Eguez',\n",
       " 'issac': 'Issac',\n",
       " 'edad': 29,\n",
       " 'hijos': None,\n",
       " 'casado': False,\n",
       " 'sueldo': 12.2,\n",
       " 'mascotas': [{'nombre': 'Cachetes', 'edad': 3}],\n",
       " 'carro': (0, 1, 2)}"
      ]
     },
     "execution_count": 8,
     "metadata": {},
     "output_type": "execute_result"
    }
   ],
   "source": [
    "adrian"
   ]
  },
  {
   "cell_type": "code",
   "execution_count": 9,
   "metadata": {},
   "outputs": [
    {
     "data": {
      "text/plain": [
       "dict_values"
      ]
     },
     "execution_count": 9,
     "metadata": {},
     "output_type": "execute_result"
    }
   ],
   "source": [
    "type(adrian.values())\n"
   ]
  },
  {
   "cell_type": "code",
   "execution_count": 10,
   "metadata": {},
   "outputs": [
    {
     "data": {
      "text/plain": [
       "dict_keys"
      ]
     },
     "execution_count": 10,
     "metadata": {},
     "output_type": "execute_result"
    }
   ],
   "source": [
    "type(adrian.keys())\n"
   ]
  },
  {
   "cell_type": "code",
   "execution_count": 11,
   "metadata": {},
   "outputs": [
    {
     "name": "stdout",
     "output_type": "stream",
     "text": [
      "Llave: nombre Valor: Adrian\n",
      "Llave: apellido Valor: Eguez\n",
      "Llave: issac Valor: Issac\n",
      "Llave: edad Valor: 29\n",
      "Llave: hijos Valor: None\n",
      "Llave: casado Valor: False\n",
      "Llave: sueldo Valor: 12.2\n",
      "Llave: mascotas Valor: [{'nombre': 'Cachetes', 'edad': 3}]\n",
      "Llave: carro Valor: (0, 1, 2)\n"
     ]
    }
   ],
   "source": [
    "for key in adrian.keys():\n",
    "    print(f\"Llave: {key} Valor: {adrian[key]}\")\n",
    "    "
   ]
  },
  {
   "cell_type": "code",
   "execution_count": 12,
   "metadata": {},
   "outputs": [],
   "source": [
    "## obtener valor que no existe\n",
    "adrian.get('asd')"
   ]
  },
  {
   "cell_type": "code",
   "execution_count": 13,
   "metadata": {},
   "outputs": [],
   "source": [
    "## adrian['asd'] -> error"
   ]
  },
  {
   "cell_type": "code",
   "execution_count": null,
   "metadata": {},
   "outputs": [],
   "source": []
  }
 ],
 "metadata": {
  "kernelspec": {
   "display_name": "Python 3",
   "language": "python",
   "name": "python3"
  },
  "language_info": {
   "codemirror_mode": {
    "name": "ipython",
    "version": 3
   },
   "file_extension": ".py",
   "mimetype": "text/x-python",
   "name": "python",
   "nbconvert_exporter": "python",
   "pygments_lexer": "ipython3",
   "version": "3.7.1"
  }
 },
 "nbformat": 4,
 "nbformat_minor": 2
}
