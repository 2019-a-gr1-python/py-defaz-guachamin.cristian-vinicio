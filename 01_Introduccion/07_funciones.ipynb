{
 "cells": [
  {
   "cell_type": "code",
   "execution_count": 3,
   "metadata": {},
   "outputs": [],
   "source": [
    "def hola_mundo():\n",
    "    print('Hola mundo')"
   ]
  },
  {
   "cell_type": "code",
   "execution_count": 4,
   "metadata": {},
   "outputs": [
    {
     "name": "stdout",
     "output_type": "stream",
     "text": [
      "Hola mundo\n"
     ]
    }
   ],
   "source": [
    "hola_mundo()"
   ]
  },
  {
   "cell_type": "code",
   "execution_count": 6,
   "metadata": {},
   "outputs": [
    {
     "data": {
      "text/plain": [
       "function"
      ]
     },
     "execution_count": 6,
     "metadata": {},
     "output_type": "execute_result"
    }
   ],
   "source": [
    "type(hola_mundo)"
   ]
  },
  {
   "cell_type": "code",
   "execution_count": 7,
   "metadata": {},
   "outputs": [],
   "source": [
    "def sumar_dos_numeros(num_uno, num_dos):\n",
    "    return num_uno + num_dos"
   ]
  },
  {
   "cell_type": "code",
   "execution_count": 10,
   "metadata": {},
   "outputs": [
    {
     "name": "stdout",
     "output_type": "stream",
     "text": [
      "3\n",
      "<class 'int'>\n"
     ]
    }
   ],
   "source": [
    "print(sumar_dos_numeros(1,2))\n",
    "print(type(sumar_dos_numeros(1,2)))"
   ]
  },
  {
   "cell_type": "code",
   "execution_count": 11,
   "metadata": {},
   "outputs": [],
   "source": [
    "# parmámetros opcionales\n",
    "def imprimir_universidad(nombre = 'EPN'):\n",
    "    print(f\"Universidad: {nombre}\")"
   ]
  },
  {
   "cell_type": "code",
   "execution_count": 12,
   "metadata": {},
   "outputs": [
    {
     "name": "stdout",
     "output_type": "stream",
     "text": [
      "Universidad: EPN\n"
     ]
    }
   ],
   "source": [
    "imprimir_universidad()"
   ]
  },
  {
   "cell_type": "code",
   "execution_count": 13,
   "metadata": {},
   "outputs": [
    {
     "name": "stdout",
     "output_type": "stream",
     "text": [
      "Universidad: ESPE\n"
     ]
    }
   ],
   "source": [
    "imprimir_universidad('ESPE') # Param opcionales deben tener un parametro preestablecido"
   ]
  },
  {
   "cell_type": "code",
   "execution_count": 15,
   "metadata": {},
   "outputs": [],
   "source": [
    "def imprimir_carro(color, placa, hp, anio):\n",
    "    print(f'Color: {color}')\n",
    "    print(f'Placa: {placa}')\n",
    "    print(f'HP: {hp}')\n",
    "    print(f'Anio: {anio}')\n",
    "    "
   ]
  },
  {
   "cell_type": "code",
   "execution_count": 16,
   "metadata": {},
   "outputs": [
    {
     "name": "stdout",
     "output_type": "stream",
     "text": [
      "Color: negro\n",
      "Placa: PIG-1010\n",
      "HP: 2000.0\n",
      "Anio: 2016\n"
     ]
    }
   ],
   "source": [
    "# Named parameters -> Cambia la posición\n",
    "imprimir_carro(color = 'negro',\n",
    "              placa='PIG-1010',\n",
    "              hp=2000.00,\n",
    "              anio=2016)"
   ]
  },
  {
   "cell_type": "code",
   "execution_count": 17,
   "metadata": {},
   "outputs": [
    {
     "name": "stdout",
     "output_type": "stream",
     "text": [
      "Color: Negro\n",
      "Placa: PIG-1010\n",
      "HP: 2000.0\n",
      "Anio: 2016\n"
     ]
    }
   ],
   "source": [
    "#Named parameters Position Parameters\n",
    "imprimir_carro('Negro',\n",
    "              anio=2016,\n",
    "              hp=2000.00,\n",
    "              placa='PIG-1010',)"
   ]
  },
  {
   "cell_type": "code",
   "execution_count": 26,
   "metadata": {},
   "outputs": [],
   "source": [
    "def sumar_numeros1(primer_numero, *numeros):\n",
    "    print(type(primer_numero))\n",
    "    print(type(numeros))"
   ]
  },
  {
   "cell_type": "code",
   "execution_count": 27,
   "metadata": {},
   "outputs": [
    {
     "name": "stdout",
     "output_type": "stream",
     "text": [
      "<class 'int'>\n",
      "<class 'tuple'>\n"
     ]
    }
   ],
   "source": [
    "sumar_numeros1(1,2,3,4,5,6,7,8)"
   ]
  },
  {
   "cell_type": "code",
   "execution_count": 28,
   "metadata": {},
   "outputs": [],
   "source": [
    "def sumar_numeros2(primer_numero, *numeros):\n",
    "    print(type(primer_numero))\n",
    "    print(type(numeros))\n",
    "    for numero in numeros:\n",
    "        print(f\"Numero: {numero}\")"
   ]
  },
  {
   "cell_type": "code",
   "execution_count": 29,
   "metadata": {},
   "outputs": [
    {
     "name": "stdout",
     "output_type": "stream",
     "text": [
      "<class 'int'>\n",
      "<class 'tuple'>\n",
      "Numero: 2\n",
      "Numero: 3\n",
      "Numero: 4\n",
      "Numero: 5\n",
      "Numero: 6\n"
     ]
    }
   ],
   "source": [
    "sumar_numeros2(1,2,3,4,5,6) #infinito numero de parámetros"
   ]
  },
  {
   "cell_type": "code",
   "execution_count": 30,
   "metadata": {},
   "outputs": [],
   "source": [
    "def sumar_numeros3(primer_numero, *numeros):\n",
    "    print(type(primer_numero))\n",
    "    print(type(numeros))\n",
    "    print(primer_numero)\n",
    "    total = 0\n",
    "    for numero in numeros:\n",
    "        print(f\"Numero: {numero}\")\n",
    "        total += numero\n",
    "    return primer_numero + total"
   ]
  },
  {
   "cell_type": "code",
   "execution_count": 31,
   "metadata": {},
   "outputs": [
    {
     "name": "stdout",
     "output_type": "stream",
     "text": [
      "<class 'int'>\n",
      "<class 'tuple'>\n",
      "2\n",
      "Numero: 3\n",
      "Numero: 4\n",
      "Numero: 5\n"
     ]
    },
    {
     "data": {
      "text/plain": [
       "14"
      ]
     },
     "execution_count": 31,
     "metadata": {},
     "output_type": "execute_result"
    }
   ],
   "source": [
    "sumar_numeros3(2,3,4,5)"
   ]
  },
  {
   "cell_type": "code",
   "execution_count": 33,
   "metadata": {},
   "outputs": [],
   "source": [
    "def libreria(nombre,conexion):\n",
    "    print(f\"Nombre: {nombre}\")\n",
    "    print(f\"Conexion: {conexion}\")"
   ]
  },
  {
   "cell_type": "code",
   "execution_count": 34,
   "metadata": {},
   "outputs": [
    {
     "name": "stdout",
     "output_type": "stream",
     "text": [
      "Nombre: CD\n",
      "Conexion: 192.168.0.1\n"
     ]
    }
   ],
   "source": [
    "libreria('CD','192.168.0.1')"
   ]
  },
  {
   "cell_type": "code",
   "execution_count": 51,
   "metadata": {},
   "outputs": [],
   "source": [
    "# Y si queremos enviar el puerto, version, etc....?\n",
    "def libreria2(nombre,conexion, **key_word_arguments):\n",
    "    print(f\"Nombre: {nombre}\")\n",
    "    print(f\"Conexion: {conexion}\")\n",
    "    print(type(key_word_arguments))\n",
    "    #obtener valores del diccionario\n",
    "    for key in key_word_arguments.keys():\n",
    "        print(f\"{key.capitalize()}: {key_word_arguments[key]}\")\n",
    "    #    for puerto in key_word_arguments:\n",
    "#        print(f\"Puerto: {puerto.upper()}\")"
   ]
  },
  {
   "cell_type": "code",
   "execution_count": 53,
   "metadata": {},
   "outputs": [
    {
     "name": "stdout",
     "output_type": "stream",
     "text": [
      "Nombre: CD\n",
      "Conexion: 192.168.0.1\n",
      "<class 'dict'>\n",
      "Puerto: 3000\n",
      "Versión: 1.0\n"
     ]
    }
   ],
   "source": [
    "libreria2('CD','192.168.0.1', puerto=3000, versión = 1.0)"
   ]
  },
  {
   "cell_type": "code",
   "execution_count": 48,
   "metadata": {},
   "outputs": [],
   "source": [
    "def funcion_completa(requerido, opcional='valor',*infinitos,**kwargs):\n",
    "    print(f'Requerido: {requerido}')\n",
    "    print(f'Opcional: {opcional}')\n",
    "    for x in infinitos:\n",
    "        print(f'Infinito: {x}')\n",
    "    for key in kwargs.keys():\n",
    "        print(f'{key.capitalize()}: {kwargs[key]}')"
   ]
  },
  {
   "cell_type": "code",
   "execution_count": 49,
   "metadata": {},
   "outputs": [
    {
     "name": "stdout",
     "output_type": "stream",
     "text": [
      "Requerido: 1\n",
      "Opcional: opcional\n",
      "Infinito: 1\n",
      "Infinito: 2\n",
      "Infinito: 3\n",
      "Infinito: 4\n",
      "Infinito: 5\n",
      "Infinito: 6\n",
      "Valor: Valor\n",
      "Llave: Llave\n"
     ]
    }
   ],
   "source": [
    "funcion_completa(1,'opcional',\n",
    "                1,2,3,4,5,6,\n",
    "                valor='Valor',\n",
    "                llave='Llave')"
   ]
  },
  {
   "cell_type": "code",
   "execution_count": null,
   "metadata": {},
   "outputs": [],
   "source": []
  }
 ],
 "metadata": {
  "kernelspec": {
   "display_name": "Python 3",
   "language": "python",
   "name": "python3"
  },
  "language_info": {
   "codemirror_mode": {
    "name": "ipython",
    "version": 3
   },
   "file_extension": ".py",
   "mimetype": "text/x-python",
   "name": "python",
   "nbconvert_exporter": "python",
   "pygments_lexer": "ipython3",
   "version": "3.7.1"
  }
 },
 "nbformat": 4,
 "nbformat_minor": 2
}
