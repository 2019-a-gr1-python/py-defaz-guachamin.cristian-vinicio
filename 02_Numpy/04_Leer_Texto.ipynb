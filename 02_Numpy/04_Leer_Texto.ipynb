{
 "cells": [
  {
   "cell_type": "code",
   "execution_count": 1,
   "metadata": {},
   "outputs": [],
   "source": [
    "import numpy as np"
   ]
  },
  {
   "cell_type": "code",
   "execution_count": 10,
   "metadata": {},
   "outputs": [],
   "source": [
    "path = './data/salarios.csv'\n",
    "arreglo_salarios = np.genfromtxt(path,delimiter=';')"
   ]
  },
  {
   "cell_type": "code",
   "execution_count": 11,
   "metadata": {},
   "outputs": [
    {
     "data": {
      "text/plain": [
       "array([[ 200.,  450.,  600.,  800., 1030.,  394., 1230.,  700.,  800.],\n",
       "       [ 400.,  450.,  600.,  800., 1030.,  394., 1230.,  700.,  800.],\n",
       "       [ 200.,  450.,  600.,  800., 1030.,  394., 1230.,  700.,  804.],\n",
       "       [ 200.,  450.,  600.,  800., 1040.,  394., 1230.,  700.,  800.],\n",
       "       [ 203.,  450.,  600.,  800., 1030.,  394., 1230.,  700.,  800.],\n",
       "       [ 200.,  450.,  600.,  800., 1030.,  394., 1230.,  700.,  800.]])"
      ]
     },
     "execution_count": 11,
     "metadata": {},
     "output_type": "execute_result"
    }
   ],
   "source": [
    "arreglo_salarios # cada fila debe tener la misma dimension"
   ]
  },
  {
   "cell_type": "code",
   "execution_count": 13,
   "metadata": {},
   "outputs": [
    {
     "data": {
      "text/plain": [
       "array([[ 242.  ,  544.5 ,  726.  ,  968.  , 1246.3 ,  476.74, 1488.3 ,\n",
       "         847.  ,  968.  ],\n",
       "       [ 484.  ,  544.5 ,  726.  ,  968.  , 1246.3 ,  476.74, 1488.3 ,\n",
       "         847.  ,  968.  ],\n",
       "       [ 242.  ,  544.5 ,  726.  ,  968.  , 1246.3 ,  476.74, 1488.3 ,\n",
       "         847.  ,  972.84],\n",
       "       [ 242.  ,  544.5 ,  726.  ,  968.  , 1258.4 ,  476.74, 1488.3 ,\n",
       "         847.  ,  968.  ],\n",
       "       [ 245.63,  544.5 ,  726.  ,  968.  , 1246.3 ,  476.74, 1488.3 ,\n",
       "         847.  ,  968.  ],\n",
       "       [ 242.  ,  544.5 ,  726.  ,  968.  , 1246.3 ,  476.74, 1488.3 ,\n",
       "         847.  ,  968.  ]])"
      ]
     },
     "execution_count": 13,
     "metadata": {},
     "output_type": "execute_result"
    }
   ],
   "source": [
    "arreglo_salarios = arreglo_salarios * 1.1\n",
    "arreglo_salarios"
   ]
  },
  {
   "cell_type": "code",
   "execution_count": 19,
   "metadata": {},
   "outputs": [],
   "source": [
    "np.savetxt(path, arreglo_salarios, delimiter=';',fmt='%4d') \n",
    "# sobreescribe el arreglo en un archivo\n",
    "# por defecto, devuelve con 18 decimales\n"
   ]
  },
  {
   "cell_type": "code",
   "execution_count": null,
   "metadata": {},
   "outputs": [],
   "source": []
  }
 ],
 "metadata": {
  "kernelspec": {
   "display_name": "Python 3",
   "language": "python",
   "name": "python3"
  },
  "language_info": {
   "codemirror_mode": {
    "name": "ipython",
    "version": 3
   },
   "file_extension": ".py",
   "mimetype": "text/x-python",
   "name": "python",
   "nbconvert_exporter": "python",
   "pygments_lexer": "ipython3",
   "version": "3.7.3"
  }
 },
 "nbformat": 4,
 "nbformat_minor": 2
}
